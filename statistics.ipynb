{
  "nbformat": 4,
  "nbformat_minor": 0,
  "metadata": {
    "colab": {
      "provenance": []
    },
    "kernelspec": {
      "name": "python3",
      "display_name": "Python 3"
    },
    "language_info": {
      "name": "python"
    }
  },
  "cells": [
    {
      "cell_type": "code",
      "execution_count": null,
      "metadata": {
        "id": "TjnIElD4Urtn"
      },
      "outputs": [],
      "source": []
    },
    {
      "cell_type": "markdown",
      "source": [
        "# ques1. What is statistics, and why is it important?\n",
        "  - Statistics is the branch of mathematics that deals with collecting, organizing, analyzing, interpreting, and presenting data.\n",
        "\n",
        "#ques2. What are the two main types of statistics?\n",
        "  - The two main types of statistics are:\n",
        "    - Descriptive Statistics\n",
        "    - Inferential Statistics\n",
        "  \n",
        "\n",
        "#ques.3 What are descriptive statistics?\n",
        "  - Descriptive Statistics\n",
        "     - It deals with summarizing and organizing data.\n",
        "\n",
        "#ques.4 What is inferential statistics?\n",
        "  - Inferential Statistics\n",
        "   - It involves making predictions or inferences about a population based on a sample.\n",
        "\n",
        "#ques.5 What is sampling in statistics?\n",
        "  - Sampling in statistics is the process of selecting a small group from a larger group .\n",
        "    \n",
        "\n",
        "#ques.6 What are the different types of sampling methods?\n",
        "  - 1. Random Sampling\n",
        "  - 2. Systematic Sampling\n",
        "  - 3. Stratified Sampling\n",
        "  - 4. Cluster Sampling\n",
        "\n",
        "#ques.7 What is the difference between random and non-random sampling?\n",
        "  - Ramdom Sampling\n",
        "   - Every member of the population has an equal chance of being selected.\n",
        "  - Non Random Sampling\n",
        "   - Some members have more or less chance of being selected.\n",
        "\n",
        "#ques 8.Define and give examples of qualitative and quantitative data.\n",
        "  - 1. Qualitative Data\n",
        "     – Definition: Data that describes qualities or characteristics; it usually non-numerical.\n",
        "  - 2. Quantitative Data\n",
        "     – Definition: Data that represents numerical values or quantities and can be measured or counted.\n",
        "\n",
        "#ques 9.  What are the different types of data in statistics?\n",
        "  - In statistics, data is mainly classified into two types:\n",
        "    - Qualitative Data\n",
        "    - Quantitative Data\n",
        "\n",
        "#ques 10. Explain nominal, ordinal, interval, and ratio levels of measurement?\n",
        "  - 1. Nominal Level\n",
        "– Names or labels only; no order or ranking.\n",
        "  - 2. Ordinal Level\n",
        "– Categories with a meaningful order, but differences between them are not measurable\n",
        "  - 3. Interval Level\n",
        "– Numeric data with equal intervals, but no true zero\n",
        "  - 4. Ratio Level\n",
        "– Like interval, but with a true zero; allows ratios and comparisons.\n",
        "\n",
        "#ques. 11  What is the measure of central tendency?\n",
        "  - mean\n",
        "  - median\n",
        "  - mode\n",
        "\n",
        "#ques.12 Define mean, median, and mode?\n",
        "  - Mean – The arithmetic average (sum of all values divided by the number of values).\n",
        "  - Median – The middle value when the data is arranged in order.\n",
        "  - Mode – The value that appears most frequently in the dataset.\n",
        "\n",
        "#ques. 13 What is the significance of the measure of central tendency?\n",
        "  - The measure of central tendency is significant because it provides a single value that summarizes a set of data.\n",
        "\n",
        "#ques 14 What is variance, and how is it calculated?\n",
        "  - Variance is a measure of how much the values in a data set deviate from the mean.\n",
        "    - Variance (Population)= ∑(xi −Mean)^2 /n\n",
        "\n",
        "#ques. 15 What is standard deviation, and why is it important?\n",
        "  - Standard deviation is a measure of the spread or dispersion of a set of data. It tells you how much the individual data points in a dataset differ from the mean.\n",
        "\n",
        "#ques. 16 Define and explain the term range in statistics?\n",
        "  - In statistics, the range is the simplest measure of spread or dispersion in a dataset. It represents the difference between the highest and lowest values in the data.\n",
        "    - Range=Maximum Value−Minimum Value\n",
        "\n",
        "#ques. 17 What is the difference between variance and standard deviation?\n",
        "  - The variance and standard deviation are both measures of how spread out the values in a dataset are, but they differ in the way they are calculated and interpreted.\n",
        "    - Variance:\n",
        "       - Variance measures the average squared deviation from the mean.\n",
        "    - standard deviation\n",
        "      - it is square root of variance.\n",
        "\n",
        "#ques . 18 What is skewness in a dataset?\n",
        "  - Skewness in a dataset refers to the asymmetry or lack of symmetry in the distribution of data.\n",
        "\n",
        "# ques . 19 What does it mean if a dataset is positively or negatively skewed?\n",
        "  - Positively Skewed: A positively skewed distribution means that the right tail is longer or fatter than the left tail.\n",
        "  - Negetively Skewed: A positively skewed distribution means that the left  tail is longer or fatter than the right tail.\n",
        "\n",
        "#ques.20 Define and explain kurtosis?\n",
        "  - Kurtosis is a statistical measure that describes the shape of a data distribution’s tails in relation to its overall shape.\n",
        "\n",
        "#ques.21 What is the purpose of covariance?\n",
        "  - Covariance is a statistical measure that shows the direction of the linear relationship between two variables.\n",
        "\n",
        "\n",
        "#ques 22  What does correlation measure in statistics?\n",
        "  - In statistics, correlation measures the strength and direction of a linear relationship between two variables.\n",
        "\n",
        "#ques 23 What is the difference between covariance and correlation?\n",
        "  - Covariance:\n",
        "     - Measures how two variables vary together.\n",
        "  - Correlation:\n",
        "     - Measures both the strength and direction of a linear relationship between two variables.\n",
        "\n",
        "#ques 24 What are some real-world applications of statistics?\n",
        "  - 1. Business and Marketing\n",
        "  - 2. Healthcare\n",
        "  - 3. Education\n",
        "  - 4. Weather Forecasting\n",
        "  - 5. Technology and Data Science   \n",
        "\n"
      ],
      "metadata": {
        "id": "msO1r5tOU2Ja"
      }
    },
    {
      "cell_type": "code",
      "source": [
        "'''ques.1 How do you calculate the mean, median, and mode of a dataset'''\n",
        "import statistics\n",
        "\n",
        "# Sample dataset\n",
        "data = [5, 7, 9, 4, 6, 7, 7]\n",
        "\n",
        "# Mean\n",
        "mean = statistics.mean(data)\n",
        "\n",
        "# Median\n",
        "median = statistics.median(data)\n",
        "\n",
        "# Mode\n",
        "mode = statistics.mode(data)"
      ],
      "metadata": {
        "id": "U33hRJa6n9XF"
      },
      "execution_count": null,
      "outputs": []
    },
    {
      "cell_type": "code",
      "source": [
        "'''ques2. Write a Python program to compute the variance and standard deviation of a dataset'''\n",
        "import statistics\n",
        "\n",
        "# Sample dataset\n",
        "data = [10, 12, 23, 23, 16, 23, 21, 16]\n",
        "\n",
        "# Variance\n",
        "variance = statistics.variance(data)\n",
        "# Standard Deviation\n",
        "std_deviation = statistics.stdev(data)\n",
        "print(\"Variance:\", variance)\n",
        "print(\"Standard Deviation:\", std_deviation)"
      ],
      "metadata": {
        "colab": {
          "base_uri": "https://localhost:8080/"
        },
        "id": "JzWQnHRzoqEW",
        "outputId": "33c3e4e7-8c9f-417c-ad85-da00a39964a1"
      },
      "execution_count": null,
      "outputs": [
        {
          "output_type": "stream",
          "name": "stdout",
          "text": [
            "Variance: 27.428571428571427\n",
            "Standard Deviation: 5.237229365663818\n"
          ]
        }
      ]
    },
    {
      "cell_type": "code",
      "source": [
        "'''ques 3 Create a dataset and classify it into nominal, ordinal, interval, and ratio types'''\n",
        "import pandas as pd\n",
        "\n",
        "# Create a dataset\n",
        "data = {\n",
        "    'Student': ['A', 'B', 'C', 'D'],\n",
        "    'Gender': ['Male', 'Female', 'Female', 'Male'],                # Nominal\n",
        "    'Grade Level': ['Excellent', 'Good', 'Average', 'Poor'],       # Ordinal\n",
        "    'Temperature (°C)': [36.5, 37.2, 38.0, 36.8],                   # Interval\n",
        "    'Test Score (%)': [90, 80, 65, 50]                              # Ratio\n",
        "}\n",
        "\n",
        "# Create a DataFrame\n",
        "df = pd.DataFrame(data)\n",
        "df"
      ],
      "metadata": {
        "colab": {
          "base_uri": "https://localhost:8080/",
          "height": 175
        },
        "id": "lepR8qYloqA9",
        "outputId": "5c45938a-ae4d-4adf-cd59-362007183b63"
      },
      "execution_count": null,
      "outputs": [
        {
          "output_type": "execute_result",
          "data": {
            "text/plain": [
              "  Student  Gender Grade Level  Temperature (°C)  Test Score (%)\n",
              "0       A    Male   Excellent              36.5              90\n",
              "1       B  Female        Good              37.2              80\n",
              "2       C  Female     Average              38.0              65\n",
              "3       D    Male        Poor              36.8              50"
            ],
            "text/html": [
              "\n",
              "  <div id=\"df-5c060a60-4c12-494f-8c55-6107414e55dc\" class=\"colab-df-container\">\n",
              "    <div>\n",
              "<style scoped>\n",
              "    .dataframe tbody tr th:only-of-type {\n",
              "        vertical-align: middle;\n",
              "    }\n",
              "\n",
              "    .dataframe tbody tr th {\n",
              "        vertical-align: top;\n",
              "    }\n",
              "\n",
              "    .dataframe thead th {\n",
              "        text-align: right;\n",
              "    }\n",
              "</style>\n",
              "<table border=\"1\" class=\"dataframe\">\n",
              "  <thead>\n",
              "    <tr style=\"text-align: right;\">\n",
              "      <th></th>\n",
              "      <th>Student</th>\n",
              "      <th>Gender</th>\n",
              "      <th>Grade Level</th>\n",
              "      <th>Temperature (°C)</th>\n",
              "      <th>Test Score (%)</th>\n",
              "    </tr>\n",
              "  </thead>\n",
              "  <tbody>\n",
              "    <tr>\n",
              "      <th>0</th>\n",
              "      <td>A</td>\n",
              "      <td>Male</td>\n",
              "      <td>Excellent</td>\n",
              "      <td>36.5</td>\n",
              "      <td>90</td>\n",
              "    </tr>\n",
              "    <tr>\n",
              "      <th>1</th>\n",
              "      <td>B</td>\n",
              "      <td>Female</td>\n",
              "      <td>Good</td>\n",
              "      <td>37.2</td>\n",
              "      <td>80</td>\n",
              "    </tr>\n",
              "    <tr>\n",
              "      <th>2</th>\n",
              "      <td>C</td>\n",
              "      <td>Female</td>\n",
              "      <td>Average</td>\n",
              "      <td>38.0</td>\n",
              "      <td>65</td>\n",
              "    </tr>\n",
              "    <tr>\n",
              "      <th>3</th>\n",
              "      <td>D</td>\n",
              "      <td>Male</td>\n",
              "      <td>Poor</td>\n",
              "      <td>36.8</td>\n",
              "      <td>50</td>\n",
              "    </tr>\n",
              "  </tbody>\n",
              "</table>\n",
              "</div>\n",
              "    <div class=\"colab-df-buttons\">\n",
              "\n",
              "  <div class=\"colab-df-container\">\n",
              "    <button class=\"colab-df-convert\" onclick=\"convertToInteractive('df-5c060a60-4c12-494f-8c55-6107414e55dc')\"\n",
              "            title=\"Convert this dataframe to an interactive table.\"\n",
              "            style=\"display:none;\">\n",
              "\n",
              "  <svg xmlns=\"http://www.w3.org/2000/svg\" height=\"24px\" viewBox=\"0 -960 960 960\">\n",
              "    <path d=\"M120-120v-720h720v720H120Zm60-500h600v-160H180v160Zm220 220h160v-160H400v160Zm0 220h160v-160H400v160ZM180-400h160v-160H180v160Zm440 0h160v-160H620v160ZM180-180h160v-160H180v160Zm440 0h160v-160H620v160Z\"/>\n",
              "  </svg>\n",
              "    </button>\n",
              "\n",
              "  <style>\n",
              "    .colab-df-container {\n",
              "      display:flex;\n",
              "      gap: 12px;\n",
              "    }\n",
              "\n",
              "    .colab-df-convert {\n",
              "      background-color: #E8F0FE;\n",
              "      border: none;\n",
              "      border-radius: 50%;\n",
              "      cursor: pointer;\n",
              "      display: none;\n",
              "      fill: #1967D2;\n",
              "      height: 32px;\n",
              "      padding: 0 0 0 0;\n",
              "      width: 32px;\n",
              "    }\n",
              "\n",
              "    .colab-df-convert:hover {\n",
              "      background-color: #E2EBFA;\n",
              "      box-shadow: 0px 1px 2px rgba(60, 64, 67, 0.3), 0px 1px 3px 1px rgba(60, 64, 67, 0.15);\n",
              "      fill: #174EA6;\n",
              "    }\n",
              "\n",
              "    .colab-df-buttons div {\n",
              "      margin-bottom: 4px;\n",
              "    }\n",
              "\n",
              "    [theme=dark] .colab-df-convert {\n",
              "      background-color: #3B4455;\n",
              "      fill: #D2E3FC;\n",
              "    }\n",
              "\n",
              "    [theme=dark] .colab-df-convert:hover {\n",
              "      background-color: #434B5C;\n",
              "      box-shadow: 0px 1px 3px 1px rgba(0, 0, 0, 0.15);\n",
              "      filter: drop-shadow(0px 1px 2px rgba(0, 0, 0, 0.3));\n",
              "      fill: #FFFFFF;\n",
              "    }\n",
              "  </style>\n",
              "\n",
              "    <script>\n",
              "      const buttonEl =\n",
              "        document.querySelector('#df-5c060a60-4c12-494f-8c55-6107414e55dc button.colab-df-convert');\n",
              "      buttonEl.style.display =\n",
              "        google.colab.kernel.accessAllowed ? 'block' : 'none';\n",
              "\n",
              "      async function convertToInteractive(key) {\n",
              "        const element = document.querySelector('#df-5c060a60-4c12-494f-8c55-6107414e55dc');\n",
              "        const dataTable =\n",
              "          await google.colab.kernel.invokeFunction('convertToInteractive',\n",
              "                                                    [key], {});\n",
              "        if (!dataTable) return;\n",
              "\n",
              "        const docLinkHtml = 'Like what you see? Visit the ' +\n",
              "          '<a target=\"_blank\" href=https://colab.research.google.com/notebooks/data_table.ipynb>data table notebook</a>'\n",
              "          + ' to learn more about interactive tables.';\n",
              "        element.innerHTML = '';\n",
              "        dataTable['output_type'] = 'display_data';\n",
              "        await google.colab.output.renderOutput(dataTable, element);\n",
              "        const docLink = document.createElement('div');\n",
              "        docLink.innerHTML = docLinkHtml;\n",
              "        element.appendChild(docLink);\n",
              "      }\n",
              "    </script>\n",
              "  </div>\n",
              "\n",
              "\n",
              "    <div id=\"df-a739251c-f2c6-44dd-b469-76e8f4e6f043\">\n",
              "      <button class=\"colab-df-quickchart\" onclick=\"quickchart('df-a739251c-f2c6-44dd-b469-76e8f4e6f043')\"\n",
              "                title=\"Suggest charts\"\n",
              "                style=\"display:none;\">\n",
              "\n",
              "<svg xmlns=\"http://www.w3.org/2000/svg\" height=\"24px\"viewBox=\"0 0 24 24\"\n",
              "     width=\"24px\">\n",
              "    <g>\n",
              "        <path d=\"M19 3H5c-1.1 0-2 .9-2 2v14c0 1.1.9 2 2 2h14c1.1 0 2-.9 2-2V5c0-1.1-.9-2-2-2zM9 17H7v-7h2v7zm4 0h-2V7h2v10zm4 0h-2v-4h2v4z\"/>\n",
              "    </g>\n",
              "</svg>\n",
              "      </button>\n",
              "\n",
              "<style>\n",
              "  .colab-df-quickchart {\n",
              "      --bg-color: #E8F0FE;\n",
              "      --fill-color: #1967D2;\n",
              "      --hover-bg-color: #E2EBFA;\n",
              "      --hover-fill-color: #174EA6;\n",
              "      --disabled-fill-color: #AAA;\n",
              "      --disabled-bg-color: #DDD;\n",
              "  }\n",
              "\n",
              "  [theme=dark] .colab-df-quickchart {\n",
              "      --bg-color: #3B4455;\n",
              "      --fill-color: #D2E3FC;\n",
              "      --hover-bg-color: #434B5C;\n",
              "      --hover-fill-color: #FFFFFF;\n",
              "      --disabled-bg-color: #3B4455;\n",
              "      --disabled-fill-color: #666;\n",
              "  }\n",
              "\n",
              "  .colab-df-quickchart {\n",
              "    background-color: var(--bg-color);\n",
              "    border: none;\n",
              "    border-radius: 50%;\n",
              "    cursor: pointer;\n",
              "    display: none;\n",
              "    fill: var(--fill-color);\n",
              "    height: 32px;\n",
              "    padding: 0;\n",
              "    width: 32px;\n",
              "  }\n",
              "\n",
              "  .colab-df-quickchart:hover {\n",
              "    background-color: var(--hover-bg-color);\n",
              "    box-shadow: 0 1px 2px rgba(60, 64, 67, 0.3), 0 1px 3px 1px rgba(60, 64, 67, 0.15);\n",
              "    fill: var(--button-hover-fill-color);\n",
              "  }\n",
              "\n",
              "  .colab-df-quickchart-complete:disabled,\n",
              "  .colab-df-quickchart-complete:disabled:hover {\n",
              "    background-color: var(--disabled-bg-color);\n",
              "    fill: var(--disabled-fill-color);\n",
              "    box-shadow: none;\n",
              "  }\n",
              "\n",
              "  .colab-df-spinner {\n",
              "    border: 2px solid var(--fill-color);\n",
              "    border-color: transparent;\n",
              "    border-bottom-color: var(--fill-color);\n",
              "    animation:\n",
              "      spin 1s steps(1) infinite;\n",
              "  }\n",
              "\n",
              "  @keyframes spin {\n",
              "    0% {\n",
              "      border-color: transparent;\n",
              "      border-bottom-color: var(--fill-color);\n",
              "      border-left-color: var(--fill-color);\n",
              "    }\n",
              "    20% {\n",
              "      border-color: transparent;\n",
              "      border-left-color: var(--fill-color);\n",
              "      border-top-color: var(--fill-color);\n",
              "    }\n",
              "    30% {\n",
              "      border-color: transparent;\n",
              "      border-left-color: var(--fill-color);\n",
              "      border-top-color: var(--fill-color);\n",
              "      border-right-color: var(--fill-color);\n",
              "    }\n",
              "    40% {\n",
              "      border-color: transparent;\n",
              "      border-right-color: var(--fill-color);\n",
              "      border-top-color: var(--fill-color);\n",
              "    }\n",
              "    60% {\n",
              "      border-color: transparent;\n",
              "      border-right-color: var(--fill-color);\n",
              "    }\n",
              "    80% {\n",
              "      border-color: transparent;\n",
              "      border-right-color: var(--fill-color);\n",
              "      border-bottom-color: var(--fill-color);\n",
              "    }\n",
              "    90% {\n",
              "      border-color: transparent;\n",
              "      border-bottom-color: var(--fill-color);\n",
              "    }\n",
              "  }\n",
              "</style>\n",
              "\n",
              "      <script>\n",
              "        async function quickchart(key) {\n",
              "          const quickchartButtonEl =\n",
              "            document.querySelector('#' + key + ' button');\n",
              "          quickchartButtonEl.disabled = true;  // To prevent multiple clicks.\n",
              "          quickchartButtonEl.classList.add('colab-df-spinner');\n",
              "          try {\n",
              "            const charts = await google.colab.kernel.invokeFunction(\n",
              "                'suggestCharts', [key], {});\n",
              "          } catch (error) {\n",
              "            console.error('Error during call to suggestCharts:', error);\n",
              "          }\n",
              "          quickchartButtonEl.classList.remove('colab-df-spinner');\n",
              "          quickchartButtonEl.classList.add('colab-df-quickchart-complete');\n",
              "        }\n",
              "        (() => {\n",
              "          let quickchartButtonEl =\n",
              "            document.querySelector('#df-a739251c-f2c6-44dd-b469-76e8f4e6f043 button');\n",
              "          quickchartButtonEl.style.display =\n",
              "            google.colab.kernel.accessAllowed ? 'block' : 'none';\n",
              "        })();\n",
              "      </script>\n",
              "    </div>\n",
              "\n",
              "  <div id=\"id_8ad2f128-2fbb-40eb-8266-d38c538d654f\">\n",
              "    <style>\n",
              "      .colab-df-generate {\n",
              "        background-color: #E8F0FE;\n",
              "        border: none;\n",
              "        border-radius: 50%;\n",
              "        cursor: pointer;\n",
              "        display: none;\n",
              "        fill: #1967D2;\n",
              "        height: 32px;\n",
              "        padding: 0 0 0 0;\n",
              "        width: 32px;\n",
              "      }\n",
              "\n",
              "      .colab-df-generate:hover {\n",
              "        background-color: #E2EBFA;\n",
              "        box-shadow: 0px 1px 2px rgba(60, 64, 67, 0.3), 0px 1px 3px 1px rgba(60, 64, 67, 0.15);\n",
              "        fill: #174EA6;\n",
              "      }\n",
              "\n",
              "      [theme=dark] .colab-df-generate {\n",
              "        background-color: #3B4455;\n",
              "        fill: #D2E3FC;\n",
              "      }\n",
              "\n",
              "      [theme=dark] .colab-df-generate:hover {\n",
              "        background-color: #434B5C;\n",
              "        box-shadow: 0px 1px 3px 1px rgba(0, 0, 0, 0.15);\n",
              "        filter: drop-shadow(0px 1px 2px rgba(0, 0, 0, 0.3));\n",
              "        fill: #FFFFFF;\n",
              "      }\n",
              "    </style>\n",
              "    <button class=\"colab-df-generate\" onclick=\"generateWithVariable('df')\"\n",
              "            title=\"Generate code using this dataframe.\"\n",
              "            style=\"display:none;\">\n",
              "\n",
              "  <svg xmlns=\"http://www.w3.org/2000/svg\" height=\"24px\"viewBox=\"0 0 24 24\"\n",
              "       width=\"24px\">\n",
              "    <path d=\"M7,19H8.4L18.45,9,17,7.55,7,17.6ZM5,21V16.75L18.45,3.32a2,2,0,0,1,2.83,0l1.4,1.43a1.91,1.91,0,0,1,.58,1.4,1.91,1.91,0,0,1-.58,1.4L9.25,21ZM18.45,9,17,7.55Zm-12,3A5.31,5.31,0,0,0,4.9,8.1,5.31,5.31,0,0,0,1,6.5,5.31,5.31,0,0,0,4.9,4.9,5.31,5.31,0,0,0,6.5,1,5.31,5.31,0,0,0,8.1,4.9,5.31,5.31,0,0,0,12,6.5,5.46,5.46,0,0,0,6.5,12Z\"/>\n",
              "  </svg>\n",
              "    </button>\n",
              "    <script>\n",
              "      (() => {\n",
              "      const buttonEl =\n",
              "        document.querySelector('#id_8ad2f128-2fbb-40eb-8266-d38c538d654f button.colab-df-generate');\n",
              "      buttonEl.style.display =\n",
              "        google.colab.kernel.accessAllowed ? 'block' : 'none';\n",
              "\n",
              "      buttonEl.onclick = () => {\n",
              "        google.colab.notebook.generateWithVariable('df');\n",
              "      }\n",
              "      })();\n",
              "    </script>\n",
              "  </div>\n",
              "\n",
              "    </div>\n",
              "  </div>\n"
            ],
            "application/vnd.google.colaboratory.intrinsic+json": {
              "type": "dataframe",
              "variable_name": "df",
              "summary": "{\n  \"name\": \"df\",\n  \"rows\": 4,\n  \"fields\": [\n    {\n      \"column\": \"Student\",\n      \"properties\": {\n        \"dtype\": \"string\",\n        \"num_unique_values\": 4,\n        \"samples\": [\n          \"B\",\n          \"D\",\n          \"A\"\n        ],\n        \"semantic_type\": \"\",\n        \"description\": \"\"\n      }\n    },\n    {\n      \"column\": \"Gender\",\n      \"properties\": {\n        \"dtype\": \"string\",\n        \"num_unique_values\": 2,\n        \"samples\": [\n          \"Female\",\n          \"Male\"\n        ],\n        \"semantic_type\": \"\",\n        \"description\": \"\"\n      }\n    },\n    {\n      \"column\": \"Grade Level\",\n      \"properties\": {\n        \"dtype\": \"string\",\n        \"num_unique_values\": 4,\n        \"samples\": [\n          \"Good\",\n          \"Poor\"\n        ],\n        \"semantic_type\": \"\",\n        \"description\": \"\"\n      }\n    },\n    {\n      \"column\": \"Temperature (\\u00b0C)\",\n      \"properties\": {\n        \"dtype\": \"number\",\n        \"std\": 0.6500000000000006,\n        \"min\": 36.5,\n        \"max\": 38.0,\n        \"num_unique_values\": 4,\n        \"samples\": [\n          37.2,\n          36.8\n        ],\n        \"semantic_type\": \"\",\n        \"description\": \"\"\n      }\n    },\n    {\n      \"column\": \"Test Score (%)\",\n      \"properties\": {\n        \"dtype\": \"number\",\n        \"std\": 17,\n        \"min\": 50,\n        \"max\": 90,\n        \"num_unique_values\": 4,\n        \"samples\": [\n          80,\n          50\n        ],\n        \"semantic_type\": \"\",\n        \"description\": \"\"\n      }\n    }\n  ]\n}"
            }
          },
          "metadata": {},
          "execution_count": 2
        }
      ]
    },
    {
      "cell_type": "code",
      "source": [
        "''''ques4. Implement sampling techniques like random sampling and stratified sampling'''\n",
        "import pandas as pd\n",
        "\n",
        "data = {\n",
        "    'Name': ['A', 'B', 'C', 'D', 'E'],\n",
        "    'Gender': ['Male', 'Female', 'Female', 'Male', 'Female'],\n",
        "    'Age': [18, 22, 19, 21, 20]\n",
        "}\n",
        "\n",
        "# Create a DataFrame\n",
        "df = pd.DataFrame(data)\n",
        "\n",
        "# Random Sampling\n",
        "random_sample = df.sample(n=2, random_state=1)\n",
        "print(random_sample)\n",
        "\n",
        "# Stratified Sampling\n",
        "stratified_sample = df.groupby('Gender').apply(lambda x: x.sample(n=1, random_state=1)).reset_index(drop=True)\n",
        "print(stratified_sample)\n"
      ],
      "metadata": {
        "colab": {
          "base_uri": "https://localhost:8080/"
        },
        "id": "07pw0qi0op-F",
        "outputId": "917059be-9c6d-4671-cdbc-781069b7229c"
      },
      "execution_count": null,
      "outputs": [
        {
          "output_type": "stream",
          "name": "stdout",
          "text": [
            "  Name  Gender  Age\n",
            "2    C  Female   19\n",
            "1    B  Female   22\n",
            "  Name  Gender  Age\n",
            "0    B  Female   22\n",
            "1    A    Male   18\n"
          ]
        },
        {
          "output_type": "stream",
          "name": "stderr",
          "text": [
            "<ipython-input-3-cd7e59019b5d>:18: DeprecationWarning: DataFrameGroupBy.apply operated on the grouping columns. This behavior is deprecated, and in a future version of pandas the grouping columns will be excluded from the operation. Either pass `include_groups=False` to exclude the groupings or explicitly select the grouping columns after groupby to silence this warning.\n",
            "  stratified_sample = df.groupby('Gender').apply(lambda x: x.sample(n=1, random_state=1)).reset_index(drop=True)\n"
          ]
        }
      ]
    },
    {
      "cell_type": "code",
      "source": [
        "'''ques5.  Write a Python function to calculate the range of a dataset'''\n",
        "def calculate_range(data):\n",
        "    return max(data) - min(data)\n",
        "data = [10, 15, 3, 7, 9]\n",
        "\n",
        "# Calculate range\n",
        "calculate_range(data)"
      ],
      "metadata": {
        "colab": {
          "base_uri": "https://localhost:8080/"
        },
        "id": "-JuYdIiuop7N",
        "outputId": "3053cf3f-3c24-4cb9-ec1f-4430ad25705a"
      },
      "execution_count": null,
      "outputs": [
        {
          "output_type": "execute_result",
          "data": {
            "text/plain": [
              "12"
            ]
          },
          "metadata": {},
          "execution_count": 4
        }
      ]
    },
    {
      "cell_type": "code",
      "source": [
        "'''ques6.Create a dataset and plot its histogram to visualize skewness'''\n",
        "import numpy as np\n",
        "import matplotlib.pyplot as plt\n",
        "import seaborn as sns\n",
        "\n",
        "# Create a sample dataset\n",
        "data = np.random.exponential(scale=2, size=1000)\n",
        "\n",
        "# Plot the histogram\n",
        "plt.figure(figsize=(8, 6))\n",
        "sns.histplot(data, kde=True, color='blue', bins=30)\n",
        "plt.title('Histogram of Right-Skewed Dataset')\n",
        "plt.xlabel('Values')\n",
        "plt.ylabel('Frequency')\n",
        "plt.show()"
      ],
      "metadata": {
        "colab": {
          "base_uri": "https://localhost:8080/",
          "height": 564
        },
        "id": "qji7yymcop4S",
        "outputId": "a712b50e-58bc-478e-a45d-37848f7ba261"
      },
      "execution_count": null,
      "outputs": [
        {
          "output_type": "display_data",
          "data": {
            "text/plain": [
              "<Figure size 800x600 with 1 Axes>"
            ],
            "image/png": "[encoded data removed]"
          },
          "metadata": {}
        }
      ]
    },
    {
      "cell_type": "code",
      "source": [
        "'''ques 7. Calculate skewness and kurtosis of a dataset using Python libraries'''\n",
        "import numpy as np\n",
        "import pandas as pd\n",
        "from scipy.stats import skew, kurtosis\n",
        "\n",
        "# Create a sample dataset\n",
        "data = [10, 12, 13, 15, 16, 18, 19, 19, 20, 21, 23, 25, 30]\n",
        "df = pd.DataFrame(data, columns=['Values'])\n",
        "\n",
        "# Calculate skewness\n",
        "skew(df['Values'])\n",
        "\n",
        "# Calculate kurtosis\n",
        "kurtosis(df['Values'])"
      ],
      "metadata": {
        "id": "S_1rbaD9op1n"
      },
      "execution_count": null,
      "outputs": []
    },
    {
      "cell_type": "code",
      "source": [
        "''' ques 8. Generate a dataset and demonstrate positive and negative skewness'''\n",
        "import numpy as np\n",
        "import matplotlib.pyplot as plt\n",
        "import seaborn as sns\n",
        "from scipy.stats import skew\n",
        "\n",
        "# Generate a positively skewed dataset (right-skewed)\n",
        "positive_skew_data = np.random.exponential(scale=2, size=1000)\n",
        "\n",
        "# Generate a negatively skewed dataset (left-skewed)\n",
        "negative_skew_data = -np.random.exponential(scale=2, size=1000)\n",
        "\n",
        "# Calculate skewness for both datasets\n",
        "positive_skewness = skew(positive_skew_data)\n",
        "negative_skewness = skew(negative_skew_data)"
      ],
      "metadata": {
        "id": "ca5weDlDopyq"
      },
      "execution_count": null,
      "outputs": []
    },
    {
      "cell_type": "code",
      "source": [
        "'''ques 9Write a Python script to calculate covariance between two datasets'''\n",
        "import numpy as np\n",
        "\n",
        "# Two sample datasets\n",
        "x = [2, 4, 6, 8, 10]\n",
        "y = [1, 3, 5, 7, 9]\n",
        "\n",
        "# Convert to numpy arrays\n",
        "x = np.array(x)\n",
        "y = np.array(y)\n",
        "\n",
        "# Calculate means\n",
        "mean_x = np.mean(x)\n",
        "mean_y = np.mean(y)\n",
        "\n",
        "# Or use numpy's built-in function\n",
        "cov_matrix = np.cov(x, y)\n",
        "cov_np = cov_matrix[0][1]\n",
        "cov_np"
      ],
      "metadata": {
        "colab": {
          "base_uri": "https://localhost:8080/"
        },
        "id": "Ag6xmrDQopvp",
        "outputId": "ddd35ff8-d73e-41e3-b66b-0d473ef04eef"
      },
      "execution_count": null,
      "outputs": [
        {
          "output_type": "execute_result",
          "data": {
            "text/plain": [
              "np.float64(10.0)"
            ]
          },
          "metadata": {},
          "execution_count": 6
        }
      ]
    },
    {
      "cell_type": "code",
      "source": [
        "'''ques10 Write a Python script to calculate the correlation coefficient between two datasets'''\n",
        "import numpy as np\n",
        "\n",
        "# Sample datasets\n",
        "x = [2, 4, 6, 8, 10]\n",
        "y = [1, 3, 5, 7, 9]\n",
        "\n",
        "# Convert to numpy arrays\n",
        "x = np.array(x)\n",
        "y = np.array(y)\n",
        "\n",
        "# Calculate correlation coefficient using numpy\n",
        "correlation_matrix = np.corrcoef(x, y)\n",
        "correlation_matrix[0, 1]\n"
      ],
      "metadata": {
        "colab": {
          "base_uri": "https://localhost:8080/"
        },
        "id": "SNdpaHGGwahR",
        "outputId": "d12df601-d555-4a62-d2a7-e4bb1e006c84"
      },
      "execution_count": null,
      "outputs": [
        {
          "output_type": "execute_result",
          "data": {
            "text/plain": [
              "np.float64(0.9999999999999999)"
            ]
          },
          "metadata": {},
          "execution_count": 7
        }
      ]
    },
    {
      "cell_type": "code",
      "source": [
        "'''ques.11Create a scatter plot to visualize the relationship between two variables'''\n",
        "import matplotlib.pyplot as plt\n",
        "import seaborn as sns\n",
        "\n",
        "# Sample data\n",
        "x = [1, 2, 3, 4, 5, 6, 7, 8, 9]\n",
        "y = [2, 4, 1, 8, 7, 5, 9, 10, 6]\n",
        "\n",
        "# Create scatter plot\n",
        "plt.figure(figsize=(8, 6))\n",
        "sns.scatterplot(x=x, y=y)\n",
        "\n",
        "# Add labels and title\n",
        "plt.xlabel('Variable X')\n",
        "plt.ylabel('Variable Y')\n",
        "plt.title('Scatter Plot of X vs Y')\n",
        "\n",
        "# Show plot\n",
        "plt.show()\n"
      ],
      "metadata": {
        "id": "WddA_5kQCye7",
        "colab": {
          "base_uri": "https://localhost:8080/",
          "height": 564
        },
        "outputId": "586b962f-d311-41b6-ce45-ba7e95408bd2"
      },
      "execution_count": 3,
      "outputs": [
        {
          "output_type": "display_data",
          "data": {
            "text/plain": [
              "<Figure size 800x600 with 1 Axes>"
            ],
            "image/png": "[encoded data removed]"
          },
          "metadata": {}
        }
      ]
    },
    {
      "cell_type": "code",
      "source": [
        "'''ques.12 Implement and compare simple random sampling and systematic sampling'''\n",
        "import numpy as np\n",
        "import pandas as pd\n",
        "\n",
        "# Create a sample dataset of 100 values\n",
        "data = pd.DataFrame({'Value': np.arange(1, 101)})\n",
        "sample_size = 10\n"
      ],
      "metadata": {
        "id": "EKdGp7tCCybi"
      },
      "execution_count": 2,
      "outputs": []
    },
    {
      "cell_type": "code",
      "source": [
        "'''ques 13 Calculate the mean, median, and mode of grouped data'''\n",
        "import numpy as np\n",
        "from scipy import stats\n",
        "\n",
        "data = [5, 15, 25, 35, 45]  # midpoints\n",
        "freq = [5, 8, 15, 10, 2]    # frequencies\n",
        "grouped = np.repeat(data, freq)\n",
        "\n",
        "print(\"Mean:\", np.mean(grouped))\n",
        "print(\"Median:\", np.median(grouped))\n",
        "print(\"Mode:\", stats.mode(grouped, keepdims=True)[0][0])\n"
      ],
      "metadata": {
        "id": "anzBD_Y1CyY7",
        "colab": {
          "base_uri": "https://localhost:8080/"
        },
        "outputId": "9626f88f-c1f1-4bfc-8d3a-5ca5582b335d"
      },
      "execution_count": 7,
      "outputs": [
        {
          "output_type": "stream",
          "name": "stdout",
          "text": [
            "Mean: 24.0\n",
            "Median: 25.0\n",
            "Mode: 25\n"
          ]
        }
      ]
    },
    {
      "cell_type": "code",
      "source": [
        "'''ques 14  Simulate data using Python and calculate its central tendency and dispersion.'''\n",
        "import numpy as np\n",
        "from scipy import stats\n",
        "\n",
        "# Simulate data\n",
        "data = np.random.randint(10, 100, size=50)  # 50 random numbers between 10 and 100\n",
        "\n",
        "# Central tendency\n",
        "mean = np.mean(data)\n",
        "median = np.median(data)\n",
        "mode = stats.mode(data, keepdims=True)[0][0]\n",
        "\n",
        "# Dispersion\n",
        "variance = np.var(data)\n",
        "std_dev = np.std(data)\n",
        "data_range = np.ptp(data)  # max - min\n",
        "\n",
        "print(f\"Mean: {mean}\\nMedian: {median}\\nMode: {mode}\")\n",
        "print(f\"Variance: {variance}\\nStd Dev: {std_dev}\\nRange: {data_range}\")\n"
      ],
      "metadata": {
        "id": "FTSIBqbOCyWG",
        "colab": {
          "base_uri": "https://localhost:8080/"
        },
        "outputId": "04edaaf9-e307-45bc-abad-8b0e5a17056b"
      },
      "execution_count": 6,
      "outputs": [
        {
          "output_type": "stream",
          "name": "stdout",
          "text": [
            "Mean: 62.4\n",
            "Median: 60.5\n",
            "Mode: 59\n",
            "Variance: 578.96\n",
            "Std Dev: 24.061587645041215\n",
            "Range: 86\n"
          ]
        }
      ]
    },
    {
      "cell_type": "code",
      "source": [
        "'''ques.15 Use NumPy or pandas to summarize a dataset’s descriptive statistics?'''\n",
        "import numpy as np\n",
        "from scipy import stats\n",
        "\n",
        "data = np.random.randint(10, 100, 50)\n",
        "\n",
        "print(\"Mean:\", np.mean(data))\n",
        "print(\"Median:\", np.median(data))\n",
        "print(\"Mode:\", stats.mode(data, keepdims=True)[0][0])\n",
        "print(\"Standard Deviation:\", np.std(data))\n",
        "print(\"Variance:\", np.var(data))\n",
        "print(\"Min:\", np.min(data), \"Max:\", np.max(data))\n"
      ],
      "metadata": {
        "id": "j4gZUb4ACyTO",
        "colab": {
          "base_uri": "https://localhost:8080/"
        },
        "outputId": "727eae4c-b486-453a-bb5e-fe29327ca4b8"
      },
      "execution_count": 5,
      "outputs": [
        {
          "output_type": "stream",
          "name": "stdout",
          "text": [
            "Mean: 56.16\n",
            "Median: 61.5\n",
            "Mode: 94\n",
            "Standard Deviation: 27.51316775654886\n",
            "Variance: 756.9743999999998\n",
            "Min: 11 Max: 98\n"
          ]
        }
      ]
    },
    {
      "cell_type": "code",
      "source": [
        "'''  ques.16 Plot a boxplot to understand the spread and identify outliers'''\n",
        "import matplotlib.pyplot as plt\n",
        "import numpy as np\n",
        "\n",
        "data = np.random.randint(10, 100, 50)\n",
        "\n",
        "plt.boxplot(data)\n",
        "plt.title(\"Boxplot of Data\")\n",
        "plt.ylabel(\"Values\")\n",
        "plt.show()\n"
      ],
      "metadata": {
        "id": "34IY_WGXCyQX",
        "colab": {
          "base_uri": "https://localhost:8080/",
          "height": 452
        },
        "outputId": "ccdd5752-f1cf-48af-8077-d3d340a71751"
      },
      "execution_count": 4,
      "outputs": [
        {
          "output_type": "display_data",
          "data": {
            "text/plain": [
              "<Figure size 640x480 with 1 Axes>"
            ],
            "image/png": "[encoded data removed]"
          },
          "metadata": {}
        }
      ]
    },
    {
      "cell_type": "code",
      "source": [
        "'''ques 17Calculate the interquartile range (IQR) of a dataset'''\n",
        "import pandas as pd\n",
        "\n",
        "data = pd.Series(np.random.randint(10, 100, 50))\n",
        "\n",
        "# Calculate IQR\n",
        "IQR = data.quantile(0.75) - data.quantile(0.25)\n",
        "\n",
        "print(f\"IQR: {IQR}\")\n"
      ],
      "metadata": {
        "id": "5JszrWn8CyNf",
        "colab": {
          "base_uri": "https://localhost:8080/"
        },
        "outputId": "f3cf7e04-44ee-4f43-960a-aff65fceeca5"
      },
      "execution_count": 8,
      "outputs": [
        {
          "output_type": "stream",
          "name": "stdout",
          "text": [
            "IQR: 44.75\n"
          ]
        }
      ]
    },
    {
      "cell_type": "code",
      "source": [
        "'''ques 18 Implement Z-score normalization and explain its significance'''\n",
        "import numpy as np\n",
        "\n",
        "data = np.random.randint(10, 100, 50)\n",
        "\n",
        "# Z-score normalization\n",
        "z_scores = (data - np.mean(data)) / np.std(data)\n",
        "\n",
        "print(\"Z-Scores:\", z_scores)\n"
      ],
      "metadata": {
        "id": "C55h7PRfCyK7",
        "colab": {
          "base_uri": "https://localhost:8080/"
        },
        "outputId": "8f3791d8-1c3c-4247-a7d2-b5cf3308243a"
      },
      "execution_count": 9,
      "outputs": [
        {
          "output_type": "stream",
          "name": "stdout",
          "text": [
            "Z-Scores: [ 0.28592537 -1.511809    0.32872857 -1.16938341  0.67115417 -0.44172902\n",
            "  1.78403735  1.31320216  0.41433497  1.22759576  1.69843095  0.37153177\n",
            "  1.01357976  1.09918616 -0.65574501  0.79956376 -1.6830218   0.49994137\n",
            "  0.07190937 -1.5974154   1.18479256 -1.12658021  0.71395737  0.11471257\n",
            " -0.27051622 -0.35612262  0.28592537 -0.48453222  1.52721815 -1.8970378\n",
            "  0.79956376  0.97077656 -1.25498981  0.84236696 -0.99817061  0.07190937\n",
            "  0.62835097  1.61282455 -1.34059621 -1.4262026  -0.44172902 -0.05650022\n",
            "  0.28592537 -0.82695781 -1.25498981  0.32872857  0.11471257 -1.4262026\n",
            " -0.95536741  0.11471257]\n"
          ]
        }
      ]
    },
    {
      "cell_type": "code",
      "source": [
        "''' ques 19 Compare two datasets using their standard deviations'''\n",
        "import numpy as np\n",
        "\n",
        "# Simulated datasets\n",
        "data1 = np.random.randint(10, 100, 50)\n",
        "data2 = np.random.randint(20, 80, 50)\n",
        "\n",
        "# Calculate standard deviations\n",
        "std_dev1 = np.std(data1)\n",
        "std_dev2 = np.std(data2)\n",
        "\n",
        "if std_dev1 > std_dev2:\n",
        "    print(\"Data1 has a higher variability.\")\n",
        "elif std_dev1 < std_dev2:\n",
        "    print(\"Data2 has a higher variability.\")\n",
        "else:\n",
        "    print(\"Both datasets have the same variability.\")\n"
      ],
      "metadata": {
        "id": "vFURZHRnCyDX",
        "colab": {
          "base_uri": "https://localhost:8080/"
        },
        "outputId": "c1647b66-dbee-487e-85cd-a2d6c0af23aa"
      },
      "execution_count": 10,
      "outputs": [
        {
          "output_type": "stream",
          "name": "stdout",
          "text": [
            "Data1 has a higher variability.\n"
          ]
        }
      ]
    },
    {
      "cell_type": "code",
      "source": [
        "'''quuues 20 .Write a Python program to visualize covariance using a heatmap'''\n",
        "import numpy as np\n",
        "import seaborn as sns\n",
        "import matplotlib.pyplot as plt\n",
        "import pandas as pd\n",
        "\n",
        "# Simulate two datasets\n",
        "data1 = np.random.randint(10, 100, 50)\n",
        "data2 = np.random.randint(20, 80, 50)\n",
        "\n",
        "# Create a DataFrame\n",
        "df = pd.DataFrame({'Data1': data1, 'Data2': data2})\n",
        "\n",
        "# Calculate the covariance matrix\n",
        "cov_matrix = df.cov()\n",
        "\n",
        "# Plotting the heatmap\n",
        "sns.heatmap(cov_matrix, annot=True, cmap='coolwarm', fmt='.2f', linewidths=0.5)\n",
        "plt.title('Covariance Matrix Heatmap')\n",
        "plt.show()\n"
      ],
      "metadata": {
        "id": "Qq7j-TsqCyAC",
        "colab": {
          "base_uri": "https://localhost:8080/",
          "height": 452
        },
        "outputId": "29af4961-962a-412e-e91f-799bd3440031"
      },
      "execution_count": 11,
      "outputs": [
        {
          "output_type": "display_data",
          "data": {
            "text/plain": [
              "<Figure size 640x480 with 2 Axes>"
            ],
            "image/png": "[encoded data removed]"
          },
          "metadata": {}
        }
      ]
    },
    {
      "cell_type": "code",
      "source": [
        "''' ques21 Use seaborn to create a correlation matrix for a dataset'''\n",
        "import seaborn as sns\n",
        "import matplotlib.pyplot as plt\n",
        "import numpy as np\n",
        "import pandas as pd\n",
        "\n",
        "# Simulate a dataset with multiple variables\n",
        "data = np.random.randint(10, 100, size=(50, 5))  # 50 rows, 5 columns\n",
        "df = pd.DataFrame(data, columns=['A', 'B', 'C', 'D', 'E'])\n",
        "\n",
        "# Calculate the correlation matrix\n",
        "corr_matrix = df.corr()\n",
        "\n",
        "# Create a heatmap for the correlation matrix\n",
        "sns.heatmap(corr_matrix, annot=True, cmap='coolwarm', fmt='.2f', linewidths=0.5)\n",
        "plt.title('Correlation Matrix Heatmap')\n",
        "plt.show()\n"
      ],
      "metadata": {
        "colab": {
          "base_uri": "https://localhost:8080/",
          "height": 452
        },
        "id": "bThPfRZTj-wb",
        "outputId": "55ce5f94-ce69-46a2-b16a-22d8e14e7201"
      },
      "execution_count": 12,
      "outputs": [
        {
          "output_type": "display_data",
          "data": {
            "text/plain": [
              "<Figure size 640x480 with 2 Axes>"
            ],
            "image/png": "[encoded data removed]"
          },
          "metadata": {}
        }
      ]
    },
    {
      "cell_type": "code",
      "source": [
        "'''ques 22 Generate a dataset and implement both variance and standard deviation computations'''\n",
        "import numpy as np\n",
        "\n",
        "# Generate a random dataset\n",
        "data = np.random.randint(10, 100, 50)\n",
        "\n",
        "# Calculate variance and standard deviation\n",
        "variance = np.var(data)\n",
        "std_dev = np.std(data)\n",
        "\n",
        "print(\"Data:\", data)\n",
        "print(\"Variance:\", variance)\n",
        "print(\"Standard Deviation:\", std_dev)\n"
      ],
      "metadata": {
        "colab": {
          "base_uri": "https://localhost:8080/"
        },
        "id": "1C2O0mXTj-s_",
        "outputId": "2c4afefe-d446-4895-dcbe-2fa06b7c62fa"
      },
      "execution_count": 13,
      "outputs": [
        {
          "output_type": "stream",
          "name": "stdout",
          "text": [
            "Data: [15 62 61 95 77 80 47 64 67 92 90 73 70 24 65 66 42 12 41 59 15 77 50 66\n",
            " 80 39 74 20 56 94 27 80 87 88 68 58 82 57 24 87 65 94 87 35 77 96 43 72\n",
            " 95 34]\n",
            "Variance: 573.7236\n",
            "Standard Deviation: 23.952528050291477\n"
          ]
        }
      ]
    },
    {
      "cell_type": "code",
      "source": [
        "'''ques 23Visualize skewness and kurtosis using Python libraries like matplotlib or seaborn'''\n",
        "import numpy as np, seaborn as sns, matplotlib.pyplot as plt\n",
        "from scipy.stats import skew, kurtosis\n",
        "\n",
        "data = np.random.gamma(2, 2, 1000)\n",
        "sns.histplot(data, kde=True)\n",
        "plt.title(f\"Skew: {skew(data):.2f} | Kurt: {kurtosis(data):.2f}\")\n",
        "plt.show()\n"
      ],
      "metadata": {
        "colab": {
          "base_uri": "https://localhost:8080/",
          "height": 452
        },
        "id": "OT-VU33hj-qT",
        "outputId": "7d9e0b04-17ab-4413-fe21-02cc30c1d973"
      },
      "execution_count": 14,
      "outputs": [
        {
          "output_type": "display_data",
          "data": {
            "text/plain": [
              "<Figure size 640x480 with 1 Axes>"
            ],
            "image/png": "[encoded data removed]"
          },
          "metadata": {}
        }
      ]
    },
    {
      "cell_type": "code",
      "source": [
        "'''ques 24 implement the Pearson and Spearman correlation coefficients for a dataset.'''\n",
        "import numpy as np\n",
        "from scipy.stats import pearsonr, spearmanr\n",
        "\n",
        "# Sample datasets\n",
        "x = np.random.randint(10, 100, 50)\n",
        "y = np.random.randint(10, 100, 50)\n",
        "\n",
        "# Calculate correlations\n",
        "pearson_corr, _ = pearsonr(x, y)\n",
        "spearman_corr, _ = spearmanr(x, y)\n",
        "\n",
        "print(f\"Pearson: {pearson_corr:.2f} | Spearman: {spearman_corr:.2f}\")\n"
      ],
      "metadata": {
        "colab": {
          "base_uri": "https://localhost:8080/"
        },
        "id": "TYD_GDCfj-nZ",
        "outputId": "27f4ec97-6b42-414e-b681-e3664a79733f"
      },
      "execution_count": 15,
      "outputs": [
        {
          "output_type": "stream",
          "name": "stdout",
          "text": [
            "Pearson: -0.21 | Spearman: -0.23\n"
          ]
        }
      ]
    },
    {
      "cell_type": "code",
      "source": [],
      "metadata": {
        "id": "4eRzyyYKj-kD"
      },
      "execution_count": null,
      "outputs": []
    }
  ]
}